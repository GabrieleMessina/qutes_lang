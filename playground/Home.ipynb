{
  "cells": [
    {
      "cell_type": "code",
      "source": [
        "!([ -d .git ] && echo .git || git rev-parse --git-dir > /dev/null 2>&1) || git clone https://github.com/GabrieleMessina/qutes_lang.git\n",
        "! (cd qutes_lang || cd ../qutes_lang && git pull)\n",
        "! pip install -r qutes_lang/requirements.txt"
      ],
      "metadata": {
        "id": "xFEa9oiGWFxS"
      },
      "execution_count": null,
      "outputs": []
    },
    {
      "cell_type": "code",
      "source": [
        "# @title Qutes Playground 🛝🕹️\n",
        "qutes_source_code = \"{}\" # @param {type:\"string\"}\n",
        "if(len(qutes_source_code) == 0):\n",
        "  qutes_source_code = 'string a = \"Hello Qutes!\"; print a;'\n",
        "\n",
        "playground_qutes_source_file_path = 'playground_qutes_source.qut'\n",
        "f = open(playground_qutes_source_file_path, \"w\")\n",
        "f.write(qutes_source_code)\n",
        "f.close()\n",
        "\n",
        "! python 'qutes_lang/src/qutes.py' 'playground_qutes_source.qut'"
      ],
      "metadata": {
        "cellView": "form",
        "id": "ZS6rdypcR_PZ"
      },
      "execution_count": null,
      "outputs": []
    }
  ],
  "metadata": {
    "kernelspec": {
      "display_name": "Python 3",
      "language": "python",
      "name": "python3"
    },
    "language_info": {
      "codemirror_mode": {
        "name": "ipython",
        "version": 3
      },
      "file_extension": ".py",
      "mimetype": "text/x-python",
      "name": "python",
      "nbconvert_exporter": "python",
      "pygments_lexer": "ipython3",
      "version": "3.11.4"
    },
    "colab": {
      "provenance": [],
      "toc_visible": true
    }
  },
  "nbformat": 4,
  "nbformat_minor": 0
}