{
  "cells": [
    {
      "cell_type": "markdown",
      "metadata": {
        "id": "a8RYu6sIhJIT"
      },
      "source": [
        "# 🔹🔷 Qutes Playground 🔷🔹\n",
        "\n",
        "---\n",
        "\n",
        "Welcome to Qutes Playground, here you can easily test the language functionalities, just follow the instructions! 😀"
      ]
    },
    {
      "cell_type": "code",
      "execution_count": null,
      "metadata": {
        "cellView": "form",
        "id": "xFEa9oiGWFxS"
      },
      "outputs": [],
      "source": [
        "# @title 🥇 Run This to Initialize!⚡\n",
        "!([ -d .git ] && echo .git || git rev-parse --git-dir > /dev/null 2>&1) || git clone https://github.com/GabrieleMessina/qutes_lang.git\n",
        "! (cd qutes_lang || cd ../qutes_lang && git pull)\n",
        "! pip install -r qutes_lang/requirements.txt"
      ]
    },
    {
      "cell_type": "code",
      "execution_count": 68,
      "metadata": {
        "cellView": "form",
        "colab": {
          "base_uri": "https://localhost:8080/",
          "height": 121,
          "referenced_widgets": [
            "10492eea4a27466097aed5daf0333a33",
            "906be4c4d5e9463d9890ea71fc832725",
            "07a2a8fc420f4ed6b6290b1a09aa609d"
          ]
        },
        "id": "3WvkMKUCvK2-",
        "outputId": "e8b243d7-acab-4163-f130-29fc49d6523b"
      },
      "outputs": [
        {
          "output_type": "display_data",
          "data": {
            "text/plain": [
              "Textarea(value='string text = \"Hello Qutes!\";\\nprint text;', layout=Layout(height='100px', width='80%'), place…"
            ],
            "application/vnd.jupyter.widget-view+json": {
              "version_major": 2,
              "version_minor": 0,
              "model_id": "10492eea4a27466097aed5daf0333a33"
            }
          },
          "metadata": {}
        }
      ],
      "source": [
        "# @title 🥈 Write your Qutes Source Code ✏️\n",
        "import ipywidgets as widgets\n",
        "qutes_source_code_widget = widgets.Textarea(\n",
        "    value='string text = \"Hello Qutes!\";\\nprint text;',\n",
        "    placeholder='Insert Qutes Lang source code.',\n",
        "    description='',\n",
        "    disabled=False,\n",
        "    layout=widgets.Layout(height=\"100px\", width=\"80%\")\n",
        ")\n",
        "qutes_source_code_widget"
      ]
    },
    {
      "cell_type": "code",
      "execution_count": null,
      "metadata": {
        "cellView": "form",
        "id": "x-okt7OowZJZ"
      },
      "outputs": [],
      "source": [
        "# @title 🥉 Run Qutes  🛝🕹️\n",
        "qutes_source_code = qutes_source_code_widget.value\n",
        "if(len(qutes_source_code) == 0):\n",
        "  qutes_source_code = 'string a = \"Hello Qutes!\"; print a;'\n",
        "\n",
        "playground_qutes_source_file_path = 'playground_qutes_source.qut'\n",
        "f = open(playground_qutes_source_file_path, \"w\")\n",
        "f.write(qutes_source_code)\n",
        "f.close()\n",
        "\n",
        "! python 'qutes_lang/src/qutes.py' 'playground_qutes_source.qut'"
      ]
    }
  ],
  "metadata": {
    "colab": {
      "provenance": [],
      "toc_visible": true
    },
    "kernelspec": {
      "display_name": "Python 3",
      "language": "python",
      "name": "python3"
    },
    "language_info": {
      "codemirror_mode": {
        "name": "ipython",
        "version": 3
      },
      "file_extension": ".py",
      "mimetype": "text/x-python",
      "name": "python",
      "nbconvert_exporter": "python",
      "pygments_lexer": "ipython3",
      "version": "3.11.4"
    },
    "widgets": {
      "application/vnd.jupyter.widget-state+json": {
        "10492eea4a27466097aed5daf0333a33": {
          "model_module": "@jupyter-widgets/controls",
          "model_name": "TextareaModel",
          "model_module_version": "1.5.0",
          "state": {
            "_dom_classes": [],
            "_model_module": "@jupyter-widgets/controls",
            "_model_module_version": "1.5.0",
            "_model_name": "TextareaModel",
            "_view_count": null,
            "_view_module": "@jupyter-widgets/controls",
            "_view_module_version": "1.5.0",
            "_view_name": "TextareaView",
            "continuous_update": true,
            "description": "",
            "description_tooltip": null,
            "disabled": false,
            "layout": "IPY_MODEL_906be4c4d5e9463d9890ea71fc832725",
            "placeholder": "Insert Qutes Lang source code.",
            "rows": null,
            "style": "IPY_MODEL_07a2a8fc420f4ed6b6290b1a09aa609d",
            "value": "string text = \"Hello Qutes!\";\nprint text;"
          }
        },
        "906be4c4d5e9463d9890ea71fc832725": {
          "model_module": "@jupyter-widgets/base",
          "model_name": "LayoutModel",
          "model_module_version": "1.2.0",
          "state": {
            "_model_module": "@jupyter-widgets/base",
            "_model_module_version": "1.2.0",
            "_model_name": "LayoutModel",
            "_view_count": null,
            "_view_module": "@jupyter-widgets/base",
            "_view_module_version": "1.2.0",
            "_view_name": "LayoutView",
            "align_content": null,
            "align_items": null,
            "align_self": null,
            "border": null,
            "bottom": null,
            "display": null,
            "flex": null,
            "flex_flow": null,
            "grid_area": null,
            "grid_auto_columns": null,
            "grid_auto_flow": null,
            "grid_auto_rows": null,
            "grid_column": null,
            "grid_gap": null,
            "grid_row": null,
            "grid_template_areas": null,
            "grid_template_columns": null,
            "grid_template_rows": null,
            "height": "100px",
            "justify_content": null,
            "justify_items": null,
            "left": null,
            "margin": null,
            "max_height": null,
            "max_width": null,
            "min_height": null,
            "min_width": null,
            "object_fit": null,
            "object_position": null,
            "order": null,
            "overflow": null,
            "overflow_x": null,
            "overflow_y": null,
            "padding": null,
            "right": null,
            "top": null,
            "visibility": null,
            "width": "80%"
          }
        },
        "07a2a8fc420f4ed6b6290b1a09aa609d": {
          "model_module": "@jupyter-widgets/controls",
          "model_name": "DescriptionStyleModel",
          "model_module_version": "1.5.0",
          "state": {
            "_model_module": "@jupyter-widgets/controls",
            "_model_module_version": "1.5.0",
            "_model_name": "DescriptionStyleModel",
            "_view_count": null,
            "_view_module": "@jupyter-widgets/base",
            "_view_module_version": "1.2.0",
            "_view_name": "StyleView",
            "description_width": ""
          }
        }
      }
    }
  },
  "nbformat": 4,
  "nbformat_minor": 0
}