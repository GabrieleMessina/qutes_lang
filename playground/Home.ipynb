{
  "cells": [
    {
      "cell_type": "markdown",
      "metadata": {
        "id": "a8RYu6sIhJIT"
      },
      "source": [
        "# 🔹🔷 Qutes Playground 🔷🔹\n",
        "\n",
        "---\n",
        "\n",
        "Welcome to Qutes Playground, here you can easily test the language functionalities, just follow the instructions! 😀"
      ]
    },
    {
      "cell_type": "code",
      "execution_count": null,
      "metadata": {
        "cellView": "form",
        "id": "xFEa9oiGWFxS"
      },
      "outputs": [],
      "source": [
        "# @title 🥇 Run This to Initialize!⚡\n",
        "!([ -d .git ] && echo .git || git rev-parse --git-dir > /dev/null 2>&1) || git clone https://github.com/GabrieleMessina/qutes_lang.git\n",
        "! (cd qutes_lang || cd ../qutes_lang && git pull)\n",
        "! pip install -r qutes_lang/requirements.txt"
      ]
    },
    {
      "cell_type": "code",
      "execution_count": null,
      "metadata": {
        "cellView": "form",
        "id": "ZS6rdypcR_PZ"
      },
      "outputs": [],
      "source": [
        "# @title 🥈 Qutes Playground 🛝🕹️\n",
        "qutes_source_code = \"{}\" # @param {type:\"string\"}\n",
        "if(len(qutes_source_code) == 0):\n",
        "  qutes_source_code = 'string a = \"Hello Qutes!\"; print a;'\n",
        "\n",
        "playground_qutes_source_file_path = 'playground_qutes_source.qut'\n",
        "f = open(playground_qutes_source_file_path, \"w\")\n",
        "f.write(qutes_source_code)\n",
        "f.close()\n",
        "\n",
        "! python 'qutes_lang/src/qutes.py' 'playground_qutes_source.qut'"
      ]
    }
  ],
  "metadata": {
    "colab": {
      "provenance": [],
      "toc_visible": true
    },
    "kernelspec": {
      "display_name": "Python 3",
      "language": "python",
      "name": "python3"
    },
    "language_info": {
      "codemirror_mode": {
        "name": "ipython",
        "version": 3
      },
      "file_extension": ".py",
      "mimetype": "text/x-python",
      "name": "python",
      "nbconvert_exporter": "python",
      "pygments_lexer": "ipython3",
      "version": "3.11.4"
    }
  },
  "nbformat": 4,
  "nbformat_minor": 0
}
